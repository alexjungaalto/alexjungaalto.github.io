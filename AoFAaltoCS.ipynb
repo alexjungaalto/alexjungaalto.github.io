{
 "cells": [
  {
   "cell_type": "code",
   "execution_count": 1,
   "id": "fb0bf193",
   "metadata": {},
   "outputs": [],
   "source": [
    "from bs4 import BeautifulSoup\n",
    "import pandas as pd\n",
    "from selenium import webdriver\n",
    "from selenium.webdriver.chrome.options import Options\n",
    "from webdriver_manager.chrome import ChromeDriverManager\n",
    "import time"
   ]
  },
  {
   "cell_type": "code",
   "execution_count": 2,
   "id": "e5fde90c",
   "metadata": {},
   "outputs": [],
   "source": [
    "def fetch_faculty():\n",
    "    url = 'https://www.aalto.fi/en/department-of-computer-science/faculty-members'\n",
    "    print(f'Scraping names of Aalto CS faculty members from {url}')\n",
    "    response = requests.request('GET', url)\n",
    "    if response.status_code!=200:\n",
    "        return None\n",
    "    html = response.text\n",
    "    l = []\n",
    "\n",
    "    restree = lxml_html.fromstring(hack_html(html))\n",
    "    tree    = lxml_etree.ElementTree(restree)\n",
    "    for a in restree.xpath(\"//a[@class='aalto-profile-card__name-link']\"):\n",
    "        n = a.text.strip()\n",
    "        if n not in l:\n",
    "            l.append(n)\n",
    "    return l"
   ]
  },
  {
   "cell_type": "code",
   "execution_count": 3,
   "id": "fc484e2f",
   "metadata": {},
   "outputs": [],
   "source": [
    "def hack_html(html):\n",
    "    p = html.find('\\n')\n",
    "    if p>0:\n",
    "        html = '<?xml version=\"1.0\"?>'+html[p:]\n",
    "    return html\n"
   ]
  },
  {
   "cell_type": "code",
   "execution_count": 4,
   "id": "6142febe",
   "metadata": {},
   "outputs": [
    {
     "name": "stdout",
     "output_type": "stream",
     "text": [
      "Scraping names of Aalto CS faculty members from https://www.aalto.fi/en/department-of-computer-science/faculty-members\n",
      "Tuomas Aura\n",
      "Chris Brzuska\n",
      "Parinya Chalermsook\n",
      "Stephane Deny\n",
      "Mario Di Francesco\n",
      "Fabian Fagerholm\n",
      "Vikas Kumar Garg\n",
      "Christian Guckelsberger\n",
      "Petter Holme\n",
      "Eero Hyvönen\n",
      "Perttu Hämäläinen\n",
      "Alex Jung\n",
      "Juho Kannala\n",
      "Petteri Kaski\n",
      "Samuel Kaski\n",
      "Sándor Kisfaludi-Bak\n",
      "Maarit Korpi-Lagg\n",
      "Juhi Kulshrestha\n",
      "Russell W. F. Lai\n",
      "Jouko Lampinen\n",
      "Casper Lassenius\n",
      "Jaakko Lehtinen\n",
      "Janne Lindqvist\n",
      "Harri Lähdesmäki\n",
      "Lauri Malmi\n",
      "Heikki Mannila\n",
      "Pekka Marttinen\n",
      "Ilkka Niemelä\n",
      "Marko Nieminen\n",
      "Pekka Orponen\n",
      "Alexandru Paler\n",
      "Jussi Rintanen\n",
      "Juho Rousu\n",
      "Jari Saramäki\n",
      "Arno Solin\n",
      "Jukka Suomela\n",
      "Linh Truong\n",
      "Jara Joel Olavi Uitto\n",
      "Aki Vehtari\n",
      "Johanna Viitanen\n",
      "Petri Vuorimaa\n",
      "Robin Welsch\n",
      "Antti Ylä-Jääski\n",
      "Bo Zhao\n",
      "Mikko Kiviharju\n",
      "Tero Ilmari Ojanperä\n",
      "Nitin Sawhney\n",
      "Talayeh Aledavood\n",
      "Lachlan Gunn\n",
      "Lassi Haaranen\n",
      "Arto Hellas\n",
      "Vesa Hirvisalo\n",
      "Jaakko Hollmen\n",
      "Wilhelmiina Hämäläinen\n",
      "Tommi Junttila\n",
      "Barbara Esther Keller\n",
      "Ari Korhonen\n",
      "Sari Kujala\n",
      "Jorma Laaksonen\n",
      "Riku Linna\n",
      "Mika P. Nieminen\n",
      "Kerttu Pollari-Malmi\n",
      "Risto Sarvas\n",
      "Otto Seppälä\n",
      "Juha Sorva\n",
      "Sanna Suoranta\n",
      "Jari-Pekka Vanhanen\n",
      "N Asokan\n",
      "Jari Collin\n",
      "Aristides Gionis\n",
      "Petri Myllymäki\n",
      "Marko Turpeinen\n",
      "Tapio Lokki\n",
      "Mikko Sams\n",
      "Simo Särkkä\n"
     ]
    }
   ],
   "source": [
    "import requests\n",
    "import os\n",
    "from lxml import html  as lxml_html\n",
    "from lxml import etree as lxml_etree\n",
    "import numpy as np\n",
    "\n",
    "people = fetch_faculty()\n",
    "\n",
    "fundingval = np.zeros(len(people))\n",
    "cntr=0\n",
    "for p in people: \n",
    "    print(p)\n",
    "    # Extract first name and last name\n",
    "    name_parts = p.split()\n",
    "    # Take the first two parts as first name and last name\n",
    "    first_name = name_parts[0]\n",
    "    last_name = name_parts[-1] # ' '.join(name_parts[1:])\n",
    "# Construct the URL with the updated first name and last name\n",
    "    url = f\"https://akareport.aka.fi/ibi_apps/WFServlet?ekaLataus=0&IBIF_ex=x_RahPaatYht_report2&UILANG=en&SANAHAKU=&ETUNIMI={first_name}&SUKUNIMI={last_name}&SUKUPUOLI=FOC_NONE&HAKU=FOC_NONE&ORGANIS=FOC_NONE&TUTKDI=FOC_NONE&TMK=FOC_NONE&PAATVUOSI_A=2001&PAATVUOSI_L=2023&LAJITTELU=PAATOS&TULOSTE=HTML\"\n",
    "    response = requests.get(url) #\"https://akareport.aka.fi/ibi_apps/WFServlet?ekaLataus=0&IBIF_ex=x_RahPaatYht_report2&UILANG=en&SANAHAKU=&ETUNIMI=Alex&SUKUNIMI=Jung&SUKUPUOLI=FOC_NONE&HAKU=FOC_NONE&ORGANIS=FOC_NONE&TUTKDI=FOC_NONE&TMK=FOC_NONE&PAATVUOSI_A=2011&PAATVUOSI_L=2023&LAJITTELU=PAATOS&TULOSTE=HTML\")  \n",
    "    soup = BeautifulSoup(response.content, 'html.parser')\n",
    "    # Find all <td> elements with the specified attributes\n",
    "    td_elements = soup.find_all('td', {'align': 'RIGHT', 'class': 'riviots7', 'nowrap': ''})\n",
    "    tmp = 0 \n",
    "    for td_element in td_elements:\n",
    "            # Extract the text content of the <td> element\n",
    "            td_text = td_element.text.strip()\n",
    "            tmp = tmp + float(td_text.replace(' ', ''))\n",
    "    fundingval[cntr]= tmp\n",
    "    cntr= cntr+1"
   ]
  },
  {
   "cell_type": "code",
   "execution_count": 5,
   "id": "8c9e21c9",
   "metadata": {},
   "outputs": [
    {
     "data": {
      "text/plain": [
       "Text(0.5, 1.0, 'Distribution of Tax-Payer Money via Research Council of Finland')"
      ]
     },
     "execution_count": 5,
     "metadata": {},
     "output_type": "execute_result"
    },
    {
     "data": {
      "image/png": "[encoded data removed]",
      "text/plain": [
       "<Figure size 640x480 with 1 Axes>"
      ]
     },
     "metadata": {},
     "output_type": "display_data"
    }
   ],
   "source": [
    "import matplotlib.pyplot as plt \n",
    "\n",
    "fundingsums = np.flip(np.sort(fundingval))\n",
    "fundingsums = fundingsums[0:50] \n",
    "\n",
    "plt.bar(range(len(fundingsums)),fundingsums/1e06, color ='maroon', \n",
    "        width = 0.4)\n",
    "plt.ylim(0,11)\n",
    "\n",
    "plt.xlabel(\"each bar is a faculty listed at Aalto CS\")\n",
    "plt.ylabel(\"funding [Million Eur] granted during 2001-2023\")\n",
    "plt.title(\"Distribution of Tax-Payer Money via Research Council of Finland\")\n",
    "#plt.title(\"Distribution of AoF gits in fields Applied mathematics, Computational data analysis, Computational science, Computer engineering, computer architecture, Computer science, Information systems science, Signal processing, Systems biology, bioinformatics\")"
   ]
  },
  {
   "cell_type": "code",
   "execution_count": null,
   "id": "954a67e2",
   "metadata": {},
   "outputs": [],
   "source": []
  }
 ],
 "metadata": {
  "kernelspec": {
   "display_name": "Python 3 (ipykernel)",
   "language": "python",
   "name": "python3"
  },
  "language_info": {
   "codemirror_mode": {
    "name": "ipython",
    "version": 3
   },
   "file_extension": ".py",
   "mimetype": "text/x-python",
   "name": "python",
   "nbconvert_exporter": "python",
   "pygments_lexer": "ipython3",
   "version": "3.11.5"
  }
 },
 "nbformat": 4,
 "nbformat_minor": 5
}
